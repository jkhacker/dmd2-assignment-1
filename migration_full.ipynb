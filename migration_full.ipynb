{
 "cells": [
  {
   "cell_type": "code",
   "execution_count": 4,
   "metadata": {},
   "outputs": [],
   "source": [
    "import psycopg2\n",
    "import pymongo\n",
    "import datetime\n",
    "import base64\n",
    "from decimal import Decimal\n",
    "import re"
   ]
  },
  {
   "cell_type": "code",
   "execution_count": 5,
   "metadata": {},
   "outputs": [],
   "source": [
    "\"\"\"\n",
    "Connection to PostgreSQL DB\n",
    "\"\"\"\n",
    "conn_string = \"host='localhost' dbname='dvdrental' user='postgres'\"\n",
    "conn = psycopg2.connect(conn_string)\n",
    "cursor = conn.cursor()"
   ]
  },
  {
   "cell_type": "code",
   "execution_count": 6,
   "metadata": {},
   "outputs": [],
   "source": [
    "\"\"\"\n",
    "Base table names retrieving\n",
    "\"\"\"\n",
    "table_names = []\n",
    "cursor.execute(\"\"\"\n",
    "    SELECT table_name\n",
    "    FROM information_schema.tables\n",
    "    WHERE table_schema='public'\n",
    "    AND table_type='BASE TABLE';\n",
    "    \"\"\")\n",
    "for table in cursor.fetchall():\n",
    "    table_names.append(table[0])"
   ]
  },
  {
   "cell_type": "code",
   "execution_count": 7,
   "metadata": {},
   "outputs": [],
   "source": [
    "\"\"\"\n",
    "Mapping table names to column name collections\n",
    "\"\"\"\n",
    "table_columns = {}\n",
    "for name in table_names:\n",
    "    cursor.execute(\"SELECT column_name FROM information_schema.columns WHERE table_schema = 'public' AND table_name = '\" + name + \"';\")\n",
    "    table_columns[name] = []\n",
    "    for column in cursor.fetchall():\n",
    "        table_columns[name].append(column[0])\n",
    "    "
   ]
  },
  {
   "cell_type": "code",
   "execution_count": 8,
   "metadata": {},
   "outputs": [],
   "source": [
    "\"\"\"\n",
    "Retrieving all objects from selected table\n",
    "\"\"\"\n",
    "def select_all_from(table, cur):\n",
    "    cur.execute('SELECT * FROM ' + table + ';')\n",
    "    return cur.fetchall()"
   ]
  },
  {
   "cell_type": "code",
   "execution_count": 9,
   "metadata": {},
   "outputs": [],
   "source": [
    "\"\"\"\n",
    "Retrieving all objects from selected table as dict instances with types compatible to MongoDB\n",
    "\"\"\"\n",
    "def get_dict_list(table, cur):\n",
    "    columns = table_columns[table]\n",
    "    res = []\n",
    "    l = select_all_from(table, cur)\n",
    "    for rec in l:\n",
    "        temp = {}\n",
    "        for i in range(len(columns)):\n",
    "            if isinstance(rec[i], datetime.date):\n",
    "                temp[columns[i]] = datetime.datetime.combine(rec[i], datetime.time.min)\n",
    "            elif isinstance(rec[i], memoryview):\n",
    "                temp[columns[i]] = str(base64.b64encode(rec[i]))\n",
    "            elif isinstance(rec[i], Decimal):\n",
    "                temp[columns[i]] = float(rec[i])\n",
    "            else:\n",
    "                temp[columns[i]] = rec[i]\n",
    "        res.append(temp)\n",
    "    return res"
   ]
  },
  {
   "cell_type": "code",
   "execution_count": 10,
   "metadata": {},
   "outputs": [],
   "source": [
    "\"\"\"\n",
    "Dropping previous documents if exist\n",
    "\"\"\"\n",
    "client = pymongo.MongoClient('localhost', 27017)\n",
    "db = client.db\n",
    "for col in db.list_collection_names():\n",
    "    db[col].drop()"
   ]
  },
  {
   "cell_type": "code",
   "execution_count": 11,
   "metadata": {},
   "outputs": [],
   "source": [
    "\"\"\"\n",
    "Migrating data from PostgreSQL DB to MongoDB\n",
    "\"\"\"\n",
    "for table in table_names:\n",
    "    col = db[table]\n",
    "    col.insert_many(get_dict_list(table, cursor))"
   ]
  },
  {
   "cell_type": "code",
   "execution_count": 12,
   "metadata": {},
   "outputs": [
    {
     "name": "stderr",
     "output_type": "stream",
     "text": [
      "/usr/local/lib/python3.7/site-packages/ipykernel_launcher.py:15: DeprecationWarning: save is deprecated. Use insert_one or replace_one instead\n",
      "  from ipykernel import kernelapp as app\n"
     ]
    }
   ],
   "source": [
    "\"\"\"\n",
    "Removing relation table film_actor with saving corresponding relations\n",
    "\"\"\"\n",
    "for actor in db.actor.find():\n",
    "    film_ids = []\n",
    "    for film_bind in db.film_actor.find(\n",
    "        {'actor_id': actor['actor_id']}\n",
    "    ):\n",
    "        film_ids.append(\n",
    "            db.film.find_one(\n",
    "                {'film_id': film_bind['film_id']}\n",
    "            )['_id']\n",
    "        )\n",
    "    actor['films'] = film_ids\n",
    "    db.actor.save(actor)\n",
    "db.film_actor.drop()"
   ]
  },
  {
   "cell_type": "code",
   "execution_count": 13,
   "metadata": {},
   "outputs": [
    {
     "name": "stderr",
     "output_type": "stream",
     "text": [
      "/usr/local/lib/python3.7/site-packages/ipykernel_launcher.py:7: DeprecationWarning: save is deprecated. Use insert_one or replace_one instead\n",
      "  import sys\n"
     ]
    }
   ],
   "source": [
    "\"\"\"\n",
    "Removing relation table film_category with saving corresponding relations\n",
    "\"\"\"\n",
    "for film in db.film.find():\n",
    "    category_id = db.film_category.find_one({'film_id':film['film_id']})['_id']\n",
    "    film['category'] = category_id\n",
    "    db.film.save(film)\n",
    "db.film_category.drop()"
   ]
  },
  {
   "cell_type": "code",
   "execution_count": 14,
   "metadata": {},
   "outputs": [
    {
     "name": "stderr",
     "output_type": "stream",
     "text": [
      "/usr/local/lib/python3.7/site-packages/ipykernel_launcher.py:13: DeprecationWarning: save is deprecated. Use insert_one or replace_one instead\n",
      "  del sys.path[0]\n"
     ]
    }
   ],
   "source": [
    "\"\"\"\n",
    "Replacing all related objects' indexes with ObjectIDs\n",
    "\"\"\"\n",
    "for i in range(2):\n",
    "    for col in db.list_collection_names():\n",
    "        docs = db[col].find()\n",
    "        for doc in docs:\n",
    "            for key in doc.keys():\n",
    "                if re.fullmatch('[a-z]+_id$', key) is not None and re.sub('_id$', '', key) != col:\n",
    "                    col_rel = re.sub('_id$', '', key)\n",
    "                    id = doc.pop(key)\n",
    "                    doc[col_rel] = db[col_rel].find_one({key:id})['_id']\n",
    "            db[col].save(doc)"
   ]
  },
  {
   "cell_type": "code",
   "execution_count": 15,
   "metadata": {},
   "outputs": [
    {
     "name": "stderr",
     "output_type": "stream",
     "text": [
      "/usr/local/lib/python3.7/site-packages/ipykernel_launcher.py:8: DeprecationWarning: save is deprecated. Use insert_one or replace_one instead\n",
      "  \n"
     ]
    }
   ],
   "source": [
    "\"\"\"\n",
    "Removing objects' IDs\n",
    "\"\"\"\n",
    "for col in db.list_collection_names():\n",
    "    docs = db[col].find()\n",
    "    for doc in docs:\n",
    "        doc.pop(col+'_id')\n",
    "        db[col].save(doc)"
   ]
  },
  {
   "cell_type": "code",
   "execution_count": 16,
   "metadata": {},
   "outputs": [
    {
     "name": "stderr",
     "output_type": "stream",
     "text": [
      "/usr/local/lib/python3.7/site-packages/ipykernel_launcher.py:6: DeprecationWarning: save is deprecated. Use insert_one or replace_one instead\n",
      "  \n"
     ]
    }
   ],
   "source": [
    "for doc in db.rental.find():\n",
    "    inventory = db.inventory.find_one({'_id': doc['inventory']})\n",
    "    doc['film'] = inventory['film']\n",
    "    doc['store'] = inventory['store']\n",
    "    doc.pop('inventory')\n",
    "    db.rental.save(doc)\n",
    "db.inventory.drop()"
   ]
  },
  {
   "cell_type": "code",
   "execution_count": 21,
   "metadata": {},
   "outputs": [],
   "source": [
    "for col in db.list_collection_names():\n",
    "    db[col].update_many({}, {'$unset': {'last_update':''}})"
   ]
  },
  {
   "cell_type": "code",
   "execution_count": null,
   "metadata": {},
   "outputs": [],
   "source": []
  }
 ],
 "metadata": {
  "kernelspec": {
   "display_name": "Python 3",
   "language": "python",
   "name": "python3"
  },
  "language_info": {
   "codemirror_mode": {
    "name": "ipython",
    "version": 3
   },
   "file_extension": ".py",
   "mimetype": "text/x-python",
   "name": "python",
   "nbconvert_exporter": "python",
   "pygments_lexer": "ipython3",
   "version": "3.7.6"
  }
 },
 "nbformat": 4,
 "nbformat_minor": 4
}
