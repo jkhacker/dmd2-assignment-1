{
 "cells": [
  {
   "cell_type": "code",
   "execution_count": 69,
   "metadata": {},
   "outputs": [],
   "source": [
    "import psycopg2\n",
    "import pymongo\n",
    "import datetime\n",
    "import base64\n",
    "from decimal import Decimal"
   ]
  },
  {
   "cell_type": "code",
   "execution_count": 70,
   "metadata": {},
   "outputs": [],
   "source": [
    "conn_string = \"host='localhost' dbname='dvdrental' user='postgres'\""
   ]
  },
  {
   "cell_type": "code",
   "execution_count": 71,
   "metadata": {},
   "outputs": [],
   "source": [
    "conn = psycopg2.connect(conn_string)\n",
    "cursor = conn.cursor()"
   ]
  },
  {
   "cell_type": "code",
   "execution_count": 72,
   "metadata": {},
   "outputs": [],
   "source": [
    "table_names = []\n",
    "cursor.execute(\"\"\"\n",
    "    SELECT table_name\n",
    "    FROM information_schema.tables\n",
    "    WHERE table_schema='public'\n",
    "    AND table_type='BASE TABLE';\n",
    "    \"\"\")\n",
    "for table in cursor.fetchall():\n",
    "    table_names.append(table[0])"
   ]
  },
  {
   "cell_type": "code",
   "execution_count": 73,
   "metadata": {},
   "outputs": [],
   "source": [
    "table_columns = {}\n",
    "for name in table_names:\n",
    "    cursor.execute(\"SELECT column_name FROM information_schema.columns WHERE table_schema = 'public' AND table_name = '\" + name + \"';\")\n",
    "    table_columns[name] = []\n",
    "    for column in cursor.fetchall():\n",
    "        table_columns[name].append(column[0])\n",
    "    "
   ]
  },
  {
   "cell_type": "code",
   "execution_count": 74,
   "metadata": {},
   "outputs": [],
   "source": [
    "def select_all_from(table, cur):\n",
    "    cur.execute('SELECT * FROM ' + table + ';')\n",
    "    return cur.fetchall()"
   ]
  },
  {
   "cell_type": "code",
   "execution_count": 75,
   "metadata": {},
   "outputs": [],
   "source": [
    "def get_dict_list(table, cur):\n",
    "    columns = table_columns[table]\n",
    "    res = []\n",
    "    l = select_all_from(table, cur)\n",
    "    for rec in l:\n",
    "        temp = {}\n",
    "        for i in range(len(columns)):\n",
    "            if isinstance(rec[i], datetime.date):\n",
    "                temp[columns[i]] = datetime.datetime.combine(rec[i], datetime.time.min)\n",
    "            elif isinstance(rec[i], memoryview):\n",
    "                temp[columns[i]] = str(base64.b64encode(rec[i]))\n",
    "            elif isinstance(rec[i], Decimal):\n",
    "                temp[columns[i]] = float(rec[i])\n",
    "            else:\n",
    "                temp[columns[i]] = rec[i]\n",
    "        res.append(temp)\n",
    "    return res"
   ]
  },
  {
   "cell_type": "code",
   "execution_count": 76,
   "metadata": {},
   "outputs": [],
   "source": [
    "client = pymongo.MongoClient('localhost', 27017)\n",
    "db = client.db\n",
    "for col in db.list_collection_names():\n",
    "    db[col].drop()"
   ]
  },
  {
   "cell_type": "code",
   "execution_count": 77,
   "metadata": {},
   "outputs": [
    {
     "name": "stdout",
     "output_type": "stream",
     "text": [
      "actor\n",
      "store\n",
      "address\n",
      "category\n",
      "city\n",
      "country\n",
      "customer\n",
      "film_actor\n",
      "film_category\n",
      "inventory\n",
      "language\n",
      "rental\n",
      "staff\n",
      "payment\n",
      "film\n"
     ]
    }
   ],
   "source": [
    "for table in table_names:\n",
    "    col = db[table]\n",
    "    print(table)\n",
    "    col.insert_many(get_dict_list(table, cursor))"
   ]
  },
  {
   "cell_type": "code",
   "execution_count": null,
   "metadata": {},
   "outputs": [],
   "source": []
  }
 ],
 "metadata": {
  "kernelspec": {
   "display_name": "Python 3",
   "language": "python",
   "name": "python3"
  },
  "language_info": {
   "codemirror_mode": {
    "name": "ipython",
    "version": 3
   },
   "file_extension": ".py",
   "mimetype": "text/x-python",
   "name": "python",
   "nbconvert_exporter": "python",
   "pygments_lexer": "ipython3",
   "version": "3.7.6"
  }
 },
 "nbformat": 4,
 "nbformat_minor": 4
}
